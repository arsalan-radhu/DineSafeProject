{
 "cells": [
  {
   "cell_type": "markdown",
   "metadata": {},
   "source": [
    "<h1>Draft</h1>"
   ]
  },
  {
   "cell_type": "code",
   "execution_count": 2,
   "metadata": {},
   "outputs": [],
   "source": [
    "import pandas as pd\n",
    "import numpy as np"
   ]
  },
  {
   "cell_type": "code",
   "execution_count": 3,
   "metadata": {},
   "outputs": [],
   "source": [
    "df = pd.read_csv('clean_dine_data.csv')"
   ]
  },
  {
   "cell_type": "code",
   "execution_count": 4,
   "metadata": {},
   "outputs": [
    {
     "data": {
      "text/html": [
       "<div>\n",
       "<style scoped>\n",
       "    .dataframe tbody tr th:only-of-type {\n",
       "        vertical-align: middle;\n",
       "    }\n",
       "\n",
       "    .dataframe tbody tr th {\n",
       "        vertical-align: top;\n",
       "    }\n",
       "\n",
       "    .dataframe thead th {\n",
       "        text-align: right;\n",
       "    }\n",
       "</style>\n",
       "<table border=\"1\" class=\"dataframe\">\n",
       "  <thead>\n",
       "    <tr style=\"text-align: right;\">\n",
       "      <th></th>\n",
       "      <th>EstablishmentID</th>\n",
       "      <th>InspectionID</th>\n",
       "      <th>EstablishmentName</th>\n",
       "      <th>EstablishmentType</th>\n",
       "      <th>EstablishmentAddress</th>\n",
       "      <th>EstablishmentStatus</th>\n",
       "      <th>Min.InspectionsPerYear</th>\n",
       "      <th>InfractionDetails</th>\n",
       "      <th>InspectionDate</th>\n",
       "      <th>Severity</th>\n",
       "      <th>Action</th>\n",
       "      <th>Outcome</th>\n",
       "      <th>AmountFined</th>\n",
       "      <th>Latitude</th>\n",
       "      <th>Longitude</th>\n",
       "    </tr>\n",
       "  </thead>\n",
       "  <tbody>\n",
       "    <tr>\n",
       "      <th>0</th>\n",
       "      <td>10657713</td>\n",
       "      <td>104953972.0</td>\n",
       "      <td>NEW KANTAMANTO MARKET</td>\n",
       "      <td>Food Depot</td>\n",
       "      <td>266 EDDYSTONE AVE, Unit-0</td>\n",
       "      <td>Pass</td>\n",
       "      <td>2.0</td>\n",
       "      <td>No infractions</td>\n",
       "      <td>2022-04-05</td>\n",
       "      <td>Not Rating</td>\n",
       "      <td>No action</td>\n",
       "      <td>No outcome</td>\n",
       "      <td>0.0</td>\n",
       "      <td>43.74791</td>\n",
       "      <td>-79.52219</td>\n",
       "    </tr>\n",
       "    <tr>\n",
       "      <th>1</th>\n",
       "      <td>10657713</td>\n",
       "      <td>105133203.0</td>\n",
       "      <td>NEW KANTAMANTO MARKET</td>\n",
       "      <td>Food Depot</td>\n",
       "      <td>266 EDDYSTONE AVE, Unit-0</td>\n",
       "      <td>Pass</td>\n",
       "      <td>2.0</td>\n",
       "      <td>operate food premise - equipment not arranged ...</td>\n",
       "      <td>2023-03-07</td>\n",
       "      <td>M - Minor</td>\n",
       "      <td>Notice to Comply</td>\n",
       "      <td>No outcome</td>\n",
       "      <td>0.0</td>\n",
       "      <td>43.74791</td>\n",
       "      <td>-79.52219</td>\n",
       "    </tr>\n",
       "    <tr>\n",
       "      <th>2</th>\n",
       "      <td>10657713</td>\n",
       "      <td>105133203.0</td>\n",
       "      <td>NEW KANTAMANTO MARKET</td>\n",
       "      <td>Food Depot</td>\n",
       "      <td>266 EDDYSTONE AVE, Unit-0</td>\n",
       "      <td>Pass</td>\n",
       "      <td>2.0</td>\n",
       "      <td>food premise not maintained with clean floors ...</td>\n",
       "      <td>2023-03-07</td>\n",
       "      <td>M - Minor</td>\n",
       "      <td>Notice to Comply</td>\n",
       "      <td>No outcome</td>\n",
       "      <td>0.0</td>\n",
       "      <td>43.74791</td>\n",
       "      <td>-79.52219</td>\n",
       "    </tr>\n",
       "    <tr>\n",
       "      <th>3</th>\n",
       "      <td>10657713</td>\n",
       "      <td>105238109.0</td>\n",
       "      <td>NEW KANTAMANTO MARKET</td>\n",
       "      <td>Food Depot</td>\n",
       "      <td>266 EDDYSTONE AVE, Unit-0</td>\n",
       "      <td>Pass</td>\n",
       "      <td>2.0</td>\n",
       "      <td>No infractions</td>\n",
       "      <td>2023-08-25</td>\n",
       "      <td>Not Rating</td>\n",
       "      <td>No action</td>\n",
       "      <td>No outcome</td>\n",
       "      <td>0.0</td>\n",
       "      <td>43.74791</td>\n",
       "      <td>-79.52219</td>\n",
       "    </tr>\n",
       "    <tr>\n",
       "      <th>4</th>\n",
       "      <td>10752656</td>\n",
       "      <td>104965345.0</td>\n",
       "      <td># HASHTAG INDIA RESTAURANT</td>\n",
       "      <td>Food Take Out</td>\n",
       "      <td>1871 O'CONNOR DR</td>\n",
       "      <td>Pass</td>\n",
       "      <td>3.0</td>\n",
       "      <td>food premise not maintained with food handling...</td>\n",
       "      <td>2022-04-29</td>\n",
       "      <td>M - Minor</td>\n",
       "      <td>Notice to Comply</td>\n",
       "      <td>No outcome</td>\n",
       "      <td>0.0</td>\n",
       "      <td>43.72199</td>\n",
       "      <td>-79.30349</td>\n",
       "    </tr>\n",
       "  </tbody>\n",
       "</table>\n",
       "</div>"
      ],
      "text/plain": [
       "   EstablishmentID  InspectionID           EstablishmentName  \\\n",
       "0         10657713   104953972.0       NEW KANTAMANTO MARKET   \n",
       "1         10657713   105133203.0       NEW KANTAMANTO MARKET   \n",
       "2         10657713   105133203.0       NEW KANTAMANTO MARKET   \n",
       "3         10657713   105238109.0       NEW KANTAMANTO MARKET   \n",
       "4         10752656   104965345.0  # HASHTAG INDIA RESTAURANT   \n",
       "\n",
       "  EstablishmentType       EstablishmentAddress EstablishmentStatus  \\\n",
       "0        Food Depot  266 EDDYSTONE AVE, Unit-0                Pass   \n",
       "1        Food Depot  266 EDDYSTONE AVE, Unit-0                Pass   \n",
       "2        Food Depot  266 EDDYSTONE AVE, Unit-0                Pass   \n",
       "3        Food Depot  266 EDDYSTONE AVE, Unit-0                Pass   \n",
       "4     Food Take Out           1871 O'CONNOR DR                Pass   \n",
       "\n",
       "   Min.InspectionsPerYear                                  InfractionDetails  \\\n",
       "0                     2.0                                     No infractions   \n",
       "1                     2.0  operate food premise - equipment not arranged ...   \n",
       "2                     2.0  food premise not maintained with clean floors ...   \n",
       "3                     2.0                                     No infractions   \n",
       "4                     3.0  food premise not maintained with food handling...   \n",
       "\n",
       "  InspectionDate    Severity            Action     Outcome  AmountFined  \\\n",
       "0     2022-04-05  Not Rating         No action  No outcome          0.0   \n",
       "1     2023-03-07   M - Minor  Notice to Comply  No outcome          0.0   \n",
       "2     2023-03-07   M - Minor  Notice to Comply  No outcome          0.0   \n",
       "3     2023-08-25  Not Rating         No action  No outcome          0.0   \n",
       "4     2022-04-29   M - Minor  Notice to Comply  No outcome          0.0   \n",
       "\n",
       "   Latitude  Longitude  \n",
       "0  43.74791  -79.52219  \n",
       "1  43.74791  -79.52219  \n",
       "2  43.74791  -79.52219  \n",
       "3  43.74791  -79.52219  \n",
       "4  43.72199  -79.30349  "
      ]
     },
     "execution_count": 4,
     "metadata": {},
     "output_type": "execute_result"
    }
   ],
   "source": [
    "# 1. Display the first few rows\n",
    "df.head()\n"
   ]
  },
  {
   "cell_type": "code",
   "execution_count": 5,
   "metadata": {},
   "outputs": [
    {
     "data": {
      "text/html": [
       "<div>\n",
       "<style scoped>\n",
       "    .dataframe tbody tr th:only-of-type {\n",
       "        vertical-align: middle;\n",
       "    }\n",
       "\n",
       "    .dataframe tbody tr th {\n",
       "        vertical-align: top;\n",
       "    }\n",
       "\n",
       "    .dataframe thead th {\n",
       "        text-align: right;\n",
       "    }\n",
       "</style>\n",
       "<table border=\"1\" class=\"dataframe\">\n",
       "  <thead>\n",
       "    <tr style=\"text-align: right;\">\n",
       "      <th></th>\n",
       "      <th>EstablishmentID</th>\n",
       "      <th>InspectionID</th>\n",
       "      <th>EstablishmentName</th>\n",
       "      <th>EstablishmentType</th>\n",
       "      <th>EstablishmentAddress</th>\n",
       "      <th>EstablishmentStatus</th>\n",
       "      <th>Min.InspectionsPerYear</th>\n",
       "      <th>InfractionDetails</th>\n",
       "      <th>InspectionDate</th>\n",
       "      <th>Severity</th>\n",
       "      <th>Action</th>\n",
       "      <th>Outcome</th>\n",
       "      <th>AmountFined</th>\n",
       "      <th>Latitude</th>\n",
       "      <th>Longitude</th>\n",
       "    </tr>\n",
       "  </thead>\n",
       "  <tbody>\n",
       "    <tr>\n",
       "      <th>76386</th>\n",
       "      <td>10429136</td>\n",
       "      <td>105152096.0</td>\n",
       "      <td>iQ FOOD CO.</td>\n",
       "      <td>Restaurant</td>\n",
       "      <td>181 BAY ST</td>\n",
       "      <td>Pass</td>\n",
       "      <td>2.0</td>\n",
       "      <td>food premise not maintained with clean floors ...</td>\n",
       "      <td>2023-04-12</td>\n",
       "      <td>M - Minor</td>\n",
       "      <td>Notice to Comply</td>\n",
       "      <td>No outcome</td>\n",
       "      <td>0.0</td>\n",
       "      <td>43.64748</td>\n",
       "      <td>-79.37849</td>\n",
       "    </tr>\n",
       "    <tr>\n",
       "      <th>76387</th>\n",
       "      <td>10429136</td>\n",
       "      <td>105256162.0</td>\n",
       "      <td>iQ FOOD CO.</td>\n",
       "      <td>Restaurant</td>\n",
       "      <td>181 BAY ST</td>\n",
       "      <td>Pass</td>\n",
       "      <td>2.0</td>\n",
       "      <td>food premise not maintained with clean floors ...</td>\n",
       "      <td>2023-09-28</td>\n",
       "      <td>M - Minor</td>\n",
       "      <td>Notice to Comply</td>\n",
       "      <td>No outcome</td>\n",
       "      <td>0.0</td>\n",
       "      <td>43.64748</td>\n",
       "      <td>-79.37849</td>\n",
       "    </tr>\n",
       "    <tr>\n",
       "      <th>76388</th>\n",
       "      <td>10696752</td>\n",
       "      <td>105055780.0</td>\n",
       "      <td>iQx</td>\n",
       "      <td>Restaurant</td>\n",
       "      <td>55 AVENUE RD</td>\n",
       "      <td>Pass</td>\n",
       "      <td>2.0</td>\n",
       "      <td>food premise not maintained with food handling...</td>\n",
       "      <td>2022-10-14</td>\n",
       "      <td>M - Minor</td>\n",
       "      <td>Notice to Comply</td>\n",
       "      <td>No outcome</td>\n",
       "      <td>0.0</td>\n",
       "      <td>43.67121</td>\n",
       "      <td>-79.39441</td>\n",
       "    </tr>\n",
       "    <tr>\n",
       "      <th>76389</th>\n",
       "      <td>10696752</td>\n",
       "      <td>105133261.0</td>\n",
       "      <td>iQx</td>\n",
       "      <td>Restaurant</td>\n",
       "      <td>55 AVENUE RD</td>\n",
       "      <td>Pass</td>\n",
       "      <td>2.0</td>\n",
       "      <td>No infractions</td>\n",
       "      <td>2023-03-07</td>\n",
       "      <td>Not Rating</td>\n",
       "      <td>No action</td>\n",
       "      <td>No outcome</td>\n",
       "      <td>0.0</td>\n",
       "      <td>43.67121</td>\n",
       "      <td>-79.39441</td>\n",
       "    </tr>\n",
       "    <tr>\n",
       "      <th>76390</th>\n",
       "      <td>10696752</td>\n",
       "      <td>105228175.0</td>\n",
       "      <td>iQx</td>\n",
       "      <td>Restaurant</td>\n",
       "      <td>55 AVENUE RD</td>\n",
       "      <td>Pass</td>\n",
       "      <td>2.0</td>\n",
       "      <td>No infractions</td>\n",
       "      <td>2023-08-10</td>\n",
       "      <td>Not Rating</td>\n",
       "      <td>No action</td>\n",
       "      <td>No outcome</td>\n",
       "      <td>0.0</td>\n",
       "      <td>43.67121</td>\n",
       "      <td>-79.39441</td>\n",
       "    </tr>\n",
       "  </tbody>\n",
       "</table>\n",
       "</div>"
      ],
      "text/plain": [
       "       EstablishmentID  InspectionID EstablishmentName EstablishmentType  \\\n",
       "76386         10429136   105152096.0       iQ FOOD CO.        Restaurant   \n",
       "76387         10429136   105256162.0       iQ FOOD CO.        Restaurant   \n",
       "76388         10696752   105055780.0               iQx        Restaurant   \n",
       "76389         10696752   105133261.0               iQx        Restaurant   \n",
       "76390         10696752   105228175.0               iQx        Restaurant   \n",
       "\n",
       "      EstablishmentAddress EstablishmentStatus  Min.InspectionsPerYear  \\\n",
       "76386           181 BAY ST                Pass                     2.0   \n",
       "76387           181 BAY ST                Pass                     2.0   \n",
       "76388         55 AVENUE RD                Pass                     2.0   \n",
       "76389         55 AVENUE RD                Pass                     2.0   \n",
       "76390         55 AVENUE RD                Pass                     2.0   \n",
       "\n",
       "                                       InfractionDetails InspectionDate  \\\n",
       "76386  food premise not maintained with clean floors ...     2023-04-12   \n",
       "76387  food premise not maintained with clean floors ...     2023-09-28   \n",
       "76388  food premise not maintained with food handling...     2022-10-14   \n",
       "76389                                     No infractions     2023-03-07   \n",
       "76390                                     No infractions     2023-08-10   \n",
       "\n",
       "         Severity            Action     Outcome  AmountFined  Latitude  \\\n",
       "76386   M - Minor  Notice to Comply  No outcome          0.0  43.64748   \n",
       "76387   M - Minor  Notice to Comply  No outcome          0.0  43.64748   \n",
       "76388   M - Minor  Notice to Comply  No outcome          0.0  43.67121   \n",
       "76389  Not Rating         No action  No outcome          0.0  43.67121   \n",
       "76390  Not Rating         No action  No outcome          0.0  43.67121   \n",
       "\n",
       "       Longitude  \n",
       "76386  -79.37849  \n",
       "76387  -79.37849  \n",
       "76388  -79.39441  \n",
       "76389  -79.39441  \n",
       "76390  -79.39441  "
      ]
     },
     "execution_count": 5,
     "metadata": {},
     "output_type": "execute_result"
    }
   ],
   "source": [
    "\n",
    "# 2. Display the last few rows\n",
    "df.tail()\n"
   ]
  },
  {
   "cell_type": "code",
   "execution_count": 6,
   "metadata": {},
   "outputs": [
    {
     "data": {
      "text/html": [
       "<div>\n",
       "<style scoped>\n",
       "    .dataframe tbody tr th:only-of-type {\n",
       "        vertical-align: middle;\n",
       "    }\n",
       "\n",
       "    .dataframe tbody tr th {\n",
       "        vertical-align: top;\n",
       "    }\n",
       "\n",
       "    .dataframe thead th {\n",
       "        text-align: right;\n",
       "    }\n",
       "</style>\n",
       "<table border=\"1\" class=\"dataframe\">\n",
       "  <thead>\n",
       "    <tr style=\"text-align: right;\">\n",
       "      <th></th>\n",
       "      <th>EstablishmentID</th>\n",
       "      <th>InspectionID</th>\n",
       "      <th>Min.InspectionsPerYear</th>\n",
       "      <th>AmountFined</th>\n",
       "      <th>Latitude</th>\n",
       "      <th>Longitude</th>\n",
       "    </tr>\n",
       "  </thead>\n",
       "  <tbody>\n",
       "    <tr>\n",
       "      <th>count</th>\n",
       "      <td>7.639100e+04</td>\n",
       "      <td>7.639100e+04</td>\n",
       "      <td>76391.000000</td>\n",
       "      <td>76391.000000</td>\n",
       "      <td>76391.000000</td>\n",
       "      <td>76391.000000</td>\n",
       "    </tr>\n",
       "    <tr>\n",
       "      <th>mean</th>\n",
       "      <td>1.039139e+07</td>\n",
       "      <td>1.051373e+08</td>\n",
       "      <td>2.358013</td>\n",
       "      <td>0.810344</td>\n",
       "      <td>43.698552</td>\n",
       "      <td>-79.399587</td>\n",
       "    </tr>\n",
       "    <tr>\n",
       "      <th>std</th>\n",
       "      <td>5.743916e+05</td>\n",
       "      <td>1.077565e+05</td>\n",
       "      <td>0.608528</td>\n",
       "      <td>36.303278</td>\n",
       "      <td>0.052790</td>\n",
       "      <td>0.082564</td>\n",
       "    </tr>\n",
       "    <tr>\n",
       "      <th>min</th>\n",
       "      <td>1.222579e+06</td>\n",
       "      <td>1.044018e+08</td>\n",
       "      <td>0.000000</td>\n",
       "      <td>0.000000</td>\n",
       "      <td>43.587910</td>\n",
       "      <td>-79.634550</td>\n",
       "    </tr>\n",
       "    <tr>\n",
       "      <th>25%</th>\n",
       "      <td>1.039323e+07</td>\n",
       "      <td>1.050507e+08</td>\n",
       "      <td>2.000000</td>\n",
       "      <td>0.000000</td>\n",
       "      <td>43.654680</td>\n",
       "      <td>-79.445970</td>\n",
       "    </tr>\n",
       "    <tr>\n",
       "      <th>50%</th>\n",
       "      <td>1.060161e+07</td>\n",
       "      <td>1.051420e+08</td>\n",
       "      <td>2.000000</td>\n",
       "      <td>0.000000</td>\n",
       "      <td>43.685550</td>\n",
       "      <td>-79.399080</td>\n",
       "    </tr>\n",
       "    <tr>\n",
       "      <th>75%</th>\n",
       "      <td>1.073214e+07</td>\n",
       "      <td>1.052310e+08</td>\n",
       "      <td>3.000000</td>\n",
       "      <td>0.000000</td>\n",
       "      <td>43.737980</td>\n",
       "      <td>-79.353960</td>\n",
       "    </tr>\n",
       "    <tr>\n",
       "      <th>max</th>\n",
       "      <td>1.080232e+07</td>\n",
       "      <td>1.053122e+08</td>\n",
       "      <td>3.000000</td>\n",
       "      <td>6250.000000</td>\n",
       "      <td>43.839140</td>\n",
       "      <td>-79.130690</td>\n",
       "    </tr>\n",
       "  </tbody>\n",
       "</table>\n",
       "</div>"
      ],
      "text/plain": [
       "       EstablishmentID  InspectionID  Min.InspectionsPerYear   AmountFined  \\\n",
       "count     7.639100e+04  7.639100e+04            76391.000000  76391.000000   \n",
       "mean      1.039139e+07  1.051373e+08                2.358013      0.810344   \n",
       "std       5.743916e+05  1.077565e+05                0.608528     36.303278   \n",
       "min       1.222579e+06  1.044018e+08                0.000000      0.000000   \n",
       "25%       1.039323e+07  1.050507e+08                2.000000      0.000000   \n",
       "50%       1.060161e+07  1.051420e+08                2.000000      0.000000   \n",
       "75%       1.073214e+07  1.052310e+08                3.000000      0.000000   \n",
       "max       1.080232e+07  1.053122e+08                3.000000   6250.000000   \n",
       "\n",
       "           Latitude     Longitude  \n",
       "count  76391.000000  76391.000000  \n",
       "mean      43.698552    -79.399587  \n",
       "std        0.052790      0.082564  \n",
       "min       43.587910    -79.634550  \n",
       "25%       43.654680    -79.445970  \n",
       "50%       43.685550    -79.399080  \n",
       "75%       43.737980    -79.353960  \n",
       "max       43.839140    -79.130690  "
      ]
     },
     "execution_count": 6,
     "metadata": {},
     "output_type": "execute_result"
    }
   ],
   "source": [
    "\n",
    "# 3. Summary statistics\n",
    "df.describe()"
   ]
  },
  {
   "cell_type": "code",
   "execution_count": 7,
   "metadata": {},
   "outputs": [
    {
     "name": "stdout",
     "output_type": "stream",
     "text": [
      "<class 'pandas.core.frame.DataFrame'>\n",
      "RangeIndex: 76391 entries, 0 to 76390\n",
      "Data columns (total 15 columns):\n",
      " #   Column                  Non-Null Count  Dtype  \n",
      "---  ------                  --------------  -----  \n",
      " 0   EstablishmentID         76391 non-null  int64  \n",
      " 1   InspectionID            76391 non-null  float64\n",
      " 2   EstablishmentName       76391 non-null  object \n",
      " 3   EstablishmentType       76391 non-null  object \n",
      " 4   EstablishmentAddress    76391 non-null  object \n",
      " 5   EstablishmentStatus     76391 non-null  object \n",
      " 6   Min.InspectionsPerYear  76391 non-null  float64\n",
      " 7   InfractionDetails       76391 non-null  object \n",
      " 8   InspectionDate          76391 non-null  object \n",
      " 9   Severity                76391 non-null  object \n",
      " 10  Action                  76391 non-null  object \n",
      " 11  Outcome                 76391 non-null  object \n",
      " 12  AmountFined             76391 non-null  float64\n",
      " 13  Latitude                76391 non-null  float64\n",
      " 14  Longitude               76391 non-null  float64\n",
      "dtypes: float64(5), int64(1), object(9)\n",
      "memory usage: 8.7+ MB\n"
     ]
    }
   ],
   "source": [
    "\n",
    "# 4. Information about DataFrame\n",
    "df.info()\n"
   ]
  },
  {
   "cell_type": "code",
   "execution_count": 8,
   "metadata": {},
   "outputs": [
    {
     "name": "stdout",
     "output_type": "stream",
     "text": [
      "Number of rows: 76391\n",
      "Number of columns: 15\n"
     ]
    }
   ],
   "source": [
    "\n",
    "# 5. Number of rows and columns\n",
    "print(\"Number of rows:\", df.shape[0])\n",
    "print(\"Number of columns:\", df.shape[1])\n"
   ]
  },
  {
   "cell_type": "code",
   "execution_count": 9,
   "metadata": {},
   "outputs": [
    {
     "name": "stdout",
     "output_type": "stream",
     "text": [
      "Index(['EstablishmentID', 'InspectionID', 'EstablishmentName',\n",
      "       'EstablishmentType', 'EstablishmentAddress', 'EstablishmentStatus',\n",
      "       'Min.InspectionsPerYear', 'InfractionDetails', 'InspectionDate',\n",
      "       'Severity', 'Action', 'Outcome', 'AmountFined', 'Latitude',\n",
      "       'Longitude'],\n",
      "      dtype='object')\n"
     ]
    }
   ],
   "source": [
    "\n",
    "# 6. Column names\n",
    "print(df.columns)\n"
   ]
  },
  {
   "cell_type": "code",
   "execution_count": 10,
   "metadata": {},
   "outputs": [
    {
     "name": "stdout",
     "output_type": "stream",
     "text": [
      "EstablishmentID           0\n",
      "InspectionID              0\n",
      "EstablishmentName         0\n",
      "EstablishmentType         0\n",
      "EstablishmentAddress      0\n",
      "EstablishmentStatus       0\n",
      "Min.InspectionsPerYear    0\n",
      "InfractionDetails         0\n",
      "InspectionDate            0\n",
      "Severity                  0\n",
      "Action                    0\n",
      "Outcome                   0\n",
      "AmountFined               0\n",
      "Latitude                  0\n",
      "Longitude                 0\n",
      "dtype: int64\n"
     ]
    }
   ],
   "source": [
    "# 7. Missing values\n",
    "print(df.isnull().sum())\n"
   ]
  },
  {
   "cell_type": "code",
   "execution_count": 14,
   "metadata": {},
   "outputs": [],
   "source": [
    "\n",
    "# 8. Unique values in a column\n",
    "uniqueEstablishment = df['EstablishmentName'].unique()\n"
   ]
  },
  {
   "cell_type": "code",
   "execution_count": 15,
   "metadata": {},
   "outputs": [
    {
     "name": "stdout",
     "output_type": "stream",
     "text": [
      "['NEW KANTAMANTO MARKET' '# HASHTAG INDIA RESTAURANT' \"'K' STORE\" ...\n",
      " 'Zhong Wei Company' 'iQ FOOD CO.' 'iQx']\n"
     ]
    }
   ],
   "source": [
    "\n",
    "print(uniqueEstablishment)"
   ]
  },
  {
   "cell_type": "code",
   "execution_count": 16,
   "metadata": {},
   "outputs": [
    {
     "data": {
      "text/plain": [
       "56"
      ]
     },
     "execution_count": 16,
     "metadata": {},
     "output_type": "execute_result"
    }
   ],
   "source": [
    "\n",
    "# Unique establishment type\n",
    "uniqueEstablishmentType = df['EstablishmentType'].nunique()\n",
    "\n",
    "uniqueEstablishmentType"
   ]
  },
  {
   "cell_type": "code",
   "execution_count": 18,
   "metadata": {},
   "outputs": [
    {
     "name": "stdout",
     "output_type": "stream",
     "text": [
      "Max amount fined: 6250.0\n",
      "Min amount fined: 55.0\n"
     ]
    }
   ],
   "source": [
    "\n",
    "# Max and Min(Non-Zero) Fines\n",
    "\n",
    "max_fine = df['AmountFined'].max()\n",
    "min_fine = df.loc[df['AmountFined'] > 0, 'AmountFined'].min()\n",
    "\n",
    "print(f\"Max amount fined: {max_fine}\")\n",
    "print(f\"Min amount fined: {min_fine}\")"
   ]
  },
  {
   "cell_type": "code",
   "execution_count": 19,
   "metadata": {},
   "outputs": [
    {
     "name": "stdout",
     "output_type": "stream",
     "text": [
      "Inspection counts for each establishment:\n",
      "EstablishmentName\n",
      "# HASHTAG INDIA RESTAURANT     30\n",
      "'K' STORE                       1\n",
      "0109 Dessert + Chocolate        2\n",
      "1 HOTEL - HARRIET'S             3\n",
      "1 HOTEL TORONTO - 1 KITCHEN     3\n",
      "                               ..\n",
      "Zaza Espresso Bar               4\n",
      "Zhenwei Food                   11\n",
      "Zhong Wei Company               1\n",
      "iQ FOOD CO.                     4\n",
      "iQx                             3\n",
      "Name: InspectionID, Length: 13567, dtype: int64\n",
      "\n",
      "Maximum inspection count: 1296\n",
      "Minimum inspection count: 1\n"
     ]
    }
   ],
   "source": [
    "# Max and Min(Non-Zero) Inspections\n",
    "\n",
    "# Group by 'EstablishmentName' and count the number of inspections\n",
    "inspection_counts = df.groupby('EstablishmentName')['InspectionID'].count()\n",
    "\n",
    "# Find the max and min counts\n",
    "max_count = inspection_counts.max()\n",
    "min_count = inspection_counts.min()\n",
    "\n",
    "print(\"Inspection counts for each establishment:\")\n",
    "print(inspection_counts)\n",
    "\n",
    "print(f\"\\nMaximum inspection count: {max_count}\")\n",
    "print(f\"Minimum inspection count: {min_count}\")"
   ]
  },
  {
   "cell_type": "code",
   "execution_count": 21,
   "metadata": {},
   "outputs": [
    {
     "name": "stdout",
     "output_type": "stream",
     "text": [
      "\n",
      "Total count of non-zero AmountFined: 120\n"
     ]
    }
   ],
   "source": [
    "# Filter the DataFrame to include only non-zero 'AmountFined' values\n",
    "non_zero_amount_fined = df.loc[df['AmountFined'] > 0, 'AmountFined']\n",
    "\n",
    "# Get the total count of non-zero 'AmountFined'\n",
    "total_non_zero_count = non_zero_amount_fined.count()\n",
    "\n",
    "print(f\"\\nTotal count of non-zero fines issued: {total_non_zero_count}\")"
   ]
  },
  {
   "cell_type": "code",
   "execution_count": 24,
   "metadata": {},
   "outputs": [
    {
     "name": "stdout",
     "output_type": "stream",
     "text": [
      "\n",
      "Total sum of fines issued: $61903.0\n"
     ]
    }
   ],
   "source": [
    "# Filter the DataFrame to include only non-zero 'AmountFined' values\n",
    "non_zero_amount_fined = df.loc[df['AmountFined'] > 0, 'AmountFined']\n",
    "\n",
    "# Get the total sum of non-zero 'AmountFined'\n",
    "total_non_zero_sum = non_zero_amount_fined.sum()\n",
    "\n",
    "print(f\"\\nTotal sum of fines issued: ${total_non_zero_sum}\")"
   ]
  },
  {
   "cell_type": "code",
   "execution_count": 25,
   "metadata": {},
   "outputs": [
    {
     "name": "stdout",
     "output_type": "stream",
     "text": [
      "Top 3 fine amounts by EstablishmentType:\n",
      "EstablishmentType            \n",
      "Bake Shop               3337        0.0\n",
      "                        3338        0.0\n",
      "                        3339        0.0\n",
      "Bakery                  71299    1880.0\n",
      "                        7960      580.0\n",
      "                                  ...  \n",
      "Student Nutrition Site  1565        0.0\n",
      "                        1566        0.0\n",
      "Supermarket             1542     1567.5\n",
      "                        20196     580.0\n",
      "                        75388     580.0\n",
      "Name: AmountFined, Length: 165, dtype: float64\n"
     ]
    }
   ],
   "source": [
    "# Find the top 3 fine amounts for each EstablishmentType\n",
    "top3_fine_amounts = df.groupby('EstablishmentType')['AmountFined'].nlargest(3)\n",
    "\n",
    "print(\"Top 3 fine amounts by EstablishmentType:\")\n",
    "print(top3_fine_amounts)"
   ]
  },
  {
   "cell_type": "code",
   "execution_count": 29,
   "metadata": {},
   "outputs": [
    {
     "name": "stdout",
     "output_type": "stream",
     "text": [
      "Top 3 establishment types based on unique InfractionDetails:\n",
      "EstablishmentType       InfractionDetails                                                                          \n",
      "Bake Shop               No infractions                                                                                 137\n",
      "                        food premise not maintained with food handling room in sanitary condition - sec. 7(1)(e)        22\n",
      "                        fail to ensure equipment surface sanitized as necessary - sec. 22                               21\n",
      "Bakery                  No infractions                                                                                 584\n",
      "                        fail to ensure equipment surface sanitized as necessary - sec. 22                              169\n",
      "                                                                                                                      ... \n",
      "Student Nutrition Site  fail to ensure completion of food handling training by food handler or supervisor - sec. 32     27\n",
      "                        food premise not maintained with clean floors in food-handling room - sec. 7(1)(g)              21\n",
      "Supermarket             No infractions                                                                                 698\n",
      "                        food premise not maintained with clean floors in food-handling room - sec. 7(1)(g)             313\n",
      "                        fail to ensure equipment surface sanitized as necessary - sec. 22                              216\n",
      "Name: count, Length: 155, dtype: int64\n"
     ]
    }
   ],
   "source": [
    "# Find the top 3 establishment types based on the total number of unique InfractionDetails\n",
    "top3_establishment_types = df.groupby('EstablishmentType')['InfractionDetails'].value_counts().groupby(level=0, group_keys=False).nlargest(3)\n",
    "\n",
    "print(\"Top 3 establishment types based on unique InfractionDetails:\")\n",
    "print(top3_establishment_types)"
   ]
  },
  {
   "cell_type": "code",
   "execution_count": 27,
   "metadata": {},
   "outputs": [
    {
     "name": "stdout",
     "output_type": "stream",
     "text": [
      "Top 3 types of infraction severity by establishment type:\n",
      "EstablishmentType       Severity           \n",
      "Bake Shop               Not Rating              137\n",
      "                        M - Minor               116\n",
      "                        S - Significant          73\n",
      "Bakery                  M - Minor               822\n",
      "                        Not Rating              584\n",
      "                                               ... \n",
      "Student Nutrition Site  M - Minor                64\n",
      "                        NA - Not Applicable      33\n",
      "Supermarket             M - Minor              1152\n",
      "                        Not Rating              698\n",
      "                        S - Significant         580\n",
      "Name: count, Length: 154, dtype: int64\n"
     ]
    }
   ],
   "source": [
    "# Find the top 3 types of infraction severity for each establishment type\n",
    "top3_infraction_severity_by_type = df.groupby('EstablishmentType')['Severity'].value_counts().groupby(level=0, group_keys=False).nlargest(3)\n",
    "\n",
    "print(\"Top 3 types of infraction severity by establishment type:\")\n",
    "print(top3_infraction_severity_by_type)"
   ]
  },
  {
   "cell_type": "code",
   "execution_count": null,
   "metadata": {},
   "outputs": [],
   "source": []
  }
 ],
 "metadata": {
  "kernelspec": {
   "display_name": "Python 3",
   "language": "python",
   "name": "python3"
  },
  "language_info": {
   "codemirror_mode": {
    "name": "ipython",
    "version": 3
   },
   "file_extension": ".py",
   "mimetype": "text/x-python",
   "name": "python",
   "nbconvert_exporter": "python",
   "pygments_lexer": "ipython3",
   "version": "3.11.4"
  }
 },
 "nbformat": 4,
 "nbformat_minor": 2
}
