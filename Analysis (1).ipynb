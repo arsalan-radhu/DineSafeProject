{
 "cells": [
  {
   "cell_type": "markdown",
   "metadata": {},
   "source": [
    "# DineSafe Toronto\n",
    "\n",
    "Team 3 \n",
    "______"
   ]
  },
  {
   "cell_type": "markdown",
   "metadata": {},
   "source": [
    "Table of Contents: \n",
    "\n",
    "- [1.1 Housekeeping](#housekeeping)\n",
    "- [1.2 Dropping Columns](#col)\n",
    "- [1.3 Dropping Rows](#row) \n",
    "- [1.4 Handling Nulls/Fixing Data](#null) "
   ]
  },
  {
   "cell_type": "markdown",
   "metadata": {},
   "source": [
    "---\n",
    "#### <a id = 'housekeeping'></a> 1.1 HouseKeeping "
   ]
  },
  {
   "cell_type": "code",
   "execution_count": 1,
   "metadata": {},
   "outputs": [],
   "source": [
    "import pandas as pd\n",
    "import numpy as np"
   ]
  },
  {
   "cell_type": "code",
   "execution_count": 2,
   "metadata": {},
   "outputs": [],
   "source": [
    "result = pd.read_csv('Dinesafe.csv',index_col='Rec #')"
   ]
  },
  {
   "cell_type": "code",
   "execution_count": 3,
   "metadata": {},
   "outputs": [],
   "source": [
    "dine_data = result "
   ]
  },
  {
   "cell_type": "code",
   "execution_count": 4,
   "metadata": {},
   "outputs": [
    {
     "data": {
      "text/html": [
       "<div>\n",
       "<style scoped>\n",
       "    .dataframe tbody tr th:only-of-type {\n",
       "        vertical-align: middle;\n",
       "    }\n",
       "\n",
       "    .dataframe tbody tr th {\n",
       "        vertical-align: top;\n",
       "    }\n",
       "\n",
       "    .dataframe thead th {\n",
       "        text-align: right;\n",
       "    }\n",
       "</style>\n",
       "<table border=\"1\" class=\"dataframe\">\n",
       "  <thead>\n",
       "    <tr style=\"text-align: right;\">\n",
       "      <th></th>\n",
       "      <th>_id</th>\n",
       "      <th>Establishment ID</th>\n",
       "      <th>Inspection ID</th>\n",
       "      <th>Establishment Name</th>\n",
       "      <th>Establishment Type</th>\n",
       "      <th>Establishment Address</th>\n",
       "      <th>Establishment Status</th>\n",
       "      <th>Min. Inspections Per Year</th>\n",
       "      <th>Infraction Details</th>\n",
       "      <th>Inspection Date</th>\n",
       "      <th>Severity</th>\n",
       "      <th>Action</th>\n",
       "      <th>Outcome</th>\n",
       "      <th>Amount Fined</th>\n",
       "      <th>Latitude</th>\n",
       "      <th>Longitude</th>\n",
       "    </tr>\n",
       "    <tr>\n",
       "      <th>Rec #</th>\n",
       "      <th></th>\n",
       "      <th></th>\n",
       "      <th></th>\n",
       "      <th></th>\n",
       "      <th></th>\n",
       "      <th></th>\n",
       "      <th></th>\n",
       "      <th></th>\n",
       "      <th></th>\n",
       "      <th></th>\n",
       "      <th></th>\n",
       "      <th></th>\n",
       "      <th></th>\n",
       "      <th></th>\n",
       "      <th></th>\n",
       "      <th></th>\n",
       "    </tr>\n",
       "  </thead>\n",
       "  <tbody>\n",
       "    <tr>\n",
       "      <th>1</th>\n",
       "      <td>1</td>\n",
       "      <td>10657713</td>\n",
       "      <td>104953972.0</td>\n",
       "      <td>NEW KANTAMANTO MARKET</td>\n",
       "      <td>Food Depot</td>\n",
       "      <td>266 EDDYSTONE AVE, Unit-0</td>\n",
       "      <td>Pass</td>\n",
       "      <td>2</td>\n",
       "      <td>NaN</td>\n",
       "      <td>2022-04-05</td>\n",
       "      <td>NaN</td>\n",
       "      <td>NaN</td>\n",
       "      <td>NaN</td>\n",
       "      <td>NaN</td>\n",
       "      <td>43.74791</td>\n",
       "      <td>-79.52219</td>\n",
       "    </tr>\n",
       "    <tr>\n",
       "      <th>2</th>\n",
       "      <td>2</td>\n",
       "      <td>10657713</td>\n",
       "      <td>105133203.0</td>\n",
       "      <td>NEW KANTAMANTO MARKET</td>\n",
       "      <td>Food Depot</td>\n",
       "      <td>266 EDDYSTONE AVE, Unit-0</td>\n",
       "      <td>Pass</td>\n",
       "      <td>2</td>\n",
       "      <td>Operate food premise - equipment not arranged ...</td>\n",
       "      <td>2023-03-07</td>\n",
       "      <td>M - Minor</td>\n",
       "      <td>Notice to Comply</td>\n",
       "      <td>NaN</td>\n",
       "      <td>NaN</td>\n",
       "      <td>43.74791</td>\n",
       "      <td>-79.52219</td>\n",
       "    </tr>\n",
       "    <tr>\n",
       "      <th>3</th>\n",
       "      <td>3</td>\n",
       "      <td>10657713</td>\n",
       "      <td>105133203.0</td>\n",
       "      <td>NEW KANTAMANTO MARKET</td>\n",
       "      <td>Food Depot</td>\n",
       "      <td>266 EDDYSTONE AVE, Unit-0</td>\n",
       "      <td>Pass</td>\n",
       "      <td>2</td>\n",
       "      <td>FOOD PREMISE NOT MAINTAINED WITH CLEAN FLOORS ...</td>\n",
       "      <td>2023-03-07</td>\n",
       "      <td>M - Minor</td>\n",
       "      <td>Notice to Comply</td>\n",
       "      <td>NaN</td>\n",
       "      <td>NaN</td>\n",
       "      <td>43.74791</td>\n",
       "      <td>-79.52219</td>\n",
       "    </tr>\n",
       "    <tr>\n",
       "      <th>4</th>\n",
       "      <td>4</td>\n",
       "      <td>10657713</td>\n",
       "      <td>105238109.0</td>\n",
       "      <td>NEW KANTAMANTO MARKET</td>\n",
       "      <td>Food Depot</td>\n",
       "      <td>266 EDDYSTONE AVE, Unit-0</td>\n",
       "      <td>Pass</td>\n",
       "      <td>2</td>\n",
       "      <td>NaN</td>\n",
       "      <td>2023-08-25</td>\n",
       "      <td>NaN</td>\n",
       "      <td>NaN</td>\n",
       "      <td>NaN</td>\n",
       "      <td>NaN</td>\n",
       "      <td>43.74791</td>\n",
       "      <td>-79.52219</td>\n",
       "    </tr>\n",
       "    <tr>\n",
       "      <th>5</th>\n",
       "      <td>5</td>\n",
       "      <td>10752656</td>\n",
       "      <td>104965345.0</td>\n",
       "      <td># HASHTAG INDIA RESTAURANT</td>\n",
       "      <td>Food Take Out</td>\n",
       "      <td>1871 O'CONNOR DR</td>\n",
       "      <td>Pass</td>\n",
       "      <td>3</td>\n",
       "      <td>FOOD PREMISE NOT MAINTAINED WITH FOOD HANDLING...</td>\n",
       "      <td>2022-04-29</td>\n",
       "      <td>M - Minor</td>\n",
       "      <td>Notice to Comply</td>\n",
       "      <td>NaN</td>\n",
       "      <td>NaN</td>\n",
       "      <td>43.72199</td>\n",
       "      <td>-79.30349</td>\n",
       "    </tr>\n",
       "  </tbody>\n",
       "</table>\n",
       "</div>"
      ],
      "text/plain": [
       "       _id  Establishment ID  Inspection ID          Establishment Name  \\\n",
       "Rec #                                                                     \n",
       "1        1          10657713    104953972.0       NEW KANTAMANTO MARKET   \n",
       "2        2          10657713    105133203.0       NEW KANTAMANTO MARKET   \n",
       "3        3          10657713    105133203.0       NEW KANTAMANTO MARKET   \n",
       "4        4          10657713    105238109.0       NEW KANTAMANTO MARKET   \n",
       "5        5          10752656    104965345.0  # HASHTAG INDIA RESTAURANT   \n",
       "\n",
       "      Establishment Type      Establishment Address Establishment Status  \\\n",
       "Rec #                                                                      \n",
       "1             Food Depot  266 EDDYSTONE AVE, Unit-0                 Pass   \n",
       "2             Food Depot  266 EDDYSTONE AVE, Unit-0                 Pass   \n",
       "3             Food Depot  266 EDDYSTONE AVE, Unit-0                 Pass   \n",
       "4             Food Depot  266 EDDYSTONE AVE, Unit-0                 Pass   \n",
       "5          Food Take Out           1871 O'CONNOR DR                 Pass   \n",
       "\n",
       "      Min. Inspections Per Year  \\\n",
       "Rec #                             \n",
       "1                             2   \n",
       "2                             2   \n",
       "3                             2   \n",
       "4                             2   \n",
       "5                             3   \n",
       "\n",
       "                                      Infraction Details Inspection Date  \\\n",
       "Rec #                                                                      \n",
       "1                                                    NaN      2022-04-05   \n",
       "2      Operate food premise - equipment not arranged ...      2023-03-07   \n",
       "3      FOOD PREMISE NOT MAINTAINED WITH CLEAN FLOORS ...      2023-03-07   \n",
       "4                                                    NaN      2023-08-25   \n",
       "5      FOOD PREMISE NOT MAINTAINED WITH FOOD HANDLING...      2022-04-29   \n",
       "\n",
       "        Severity            Action Outcome  Amount Fined  Latitude  Longitude  \n",
       "Rec #                                                                          \n",
       "1            NaN               NaN     NaN           NaN  43.74791  -79.52219  \n",
       "2      M - Minor  Notice to Comply     NaN           NaN  43.74791  -79.52219  \n",
       "3      M - Minor  Notice to Comply     NaN           NaN  43.74791  -79.52219  \n",
       "4            NaN               NaN     NaN           NaN  43.74791  -79.52219  \n",
       "5      M - Minor  Notice to Comply     NaN           NaN  43.72199  -79.30349  "
      ]
     },
     "execution_count": 4,
     "metadata": {},
     "output_type": "execute_result"
    }
   ],
   "source": [
    "dine_data.head()"
   ]
  },
  {
   "cell_type": "code",
   "execution_count": 5,
   "metadata": {},
   "outputs": [],
   "source": [
    "#removing whitespace from columns\n",
    "dine_data.rename(columns=lambda x: x.replace(' ', ''), inplace=True)"
   ]
  },
  {
   "cell_type": "code",
   "execution_count": 6,
   "metadata": {},
   "outputs": [
    {
     "name": "stdout",
     "output_type": "stream",
     "text": [
      "<class 'pandas.core.frame.DataFrame'>\n",
      "Index: 76805 entries, 1 to 76805\n",
      "Data columns (total 16 columns):\n",
      " #   Column                  Non-Null Count  Dtype  \n",
      "---  ------                  --------------  -----  \n",
      " 0   _id                     76805 non-null  int64  \n",
      " 1   EstablishmentID         76805 non-null  int64  \n",
      " 2   InspectionID            76391 non-null  float64\n",
      " 3   EstablishmentName       76805 non-null  object \n",
      " 4   EstablishmentType       76805 non-null  object \n",
      " 5   EstablishmentAddress    76805 non-null  object \n",
      " 6   EstablishmentStatus     76805 non-null  object \n",
      " 7   Min.InspectionsPerYear  76805 non-null  object \n",
      " 8   InfractionDetails       47929 non-null  object \n",
      " 9   InspectionDate          76391 non-null  object \n",
      " 10  Severity                47929 non-null  object \n",
      " 11  Action                  47929 non-null  object \n",
      " 12  Outcome                 196 non-null    object \n",
      " 13  AmountFined             130 non-null    float64\n",
      " 14  Latitude                76805 non-null  float64\n",
      " 15  Longitude               76805 non-null  float64\n",
      "dtypes: float64(4), int64(2), object(10)\n",
      "memory usage: 10.0+ MB\n"
     ]
    }
   ],
   "source": [
    "#Taking a quick look at the data \n",
    "dine_data.info()"
   ]
  },
  {
   "cell_type": "markdown",
   "metadata": {},
   "source": [
    "As we can see, there are a few columns where the data type is not appropriate. We will make these conversions. \n",
    "- Min. Inspections Per Year is supposed to be numeric\n",
    "- Inspection Date should be date time"
   ]
  },
  {
   "cell_type": "code",
   "execution_count": 7,
   "metadata": {},
   "outputs": [],
   "source": [
    "#Changing to numeric\n",
    "dine_data['Min.InspectionsPerYear'] = pd.to_numeric(dine_data['Min.InspectionsPerYear'], errors='coerce')"
   ]
  },
  {
   "cell_type": "code",
   "execution_count": 8,
   "metadata": {},
   "outputs": [],
   "source": [
    "#Changing to date time \n",
    "dine_data['InspectionDate'] = pd.to_datetime(dine_data['InspectionDate'], errors='coerce')"
   ]
  },
  {
   "cell_type": "code",
   "execution_count": 9,
   "metadata": {},
   "outputs": [
    {
     "name": "stdout",
     "output_type": "stream",
     "text": [
      "<class 'pandas.core.frame.DataFrame'>\n",
      "Index: 76805 entries, 1 to 76805\n",
      "Data columns (total 16 columns):\n",
      " #   Column                  Non-Null Count  Dtype         \n",
      "---  ------                  --------------  -----         \n",
      " 0   _id                     76805 non-null  int64         \n",
      " 1   EstablishmentID         76805 non-null  int64         \n",
      " 2   InspectionID            76391 non-null  float64       \n",
      " 3   EstablishmentName       76805 non-null  object        \n",
      " 4   EstablishmentType       76805 non-null  object        \n",
      " 5   EstablishmentAddress    76805 non-null  object        \n",
      " 6   EstablishmentStatus     76805 non-null  object        \n",
      " 7   Min.InspectionsPerYear  76676 non-null  float64       \n",
      " 8   InfractionDetails       47929 non-null  object        \n",
      " 9   InspectionDate          76391 non-null  datetime64[ns]\n",
      " 10  Severity                47929 non-null  object        \n",
      " 11  Action                  47929 non-null  object        \n",
      " 12  Outcome                 196 non-null    object        \n",
      " 13  AmountFined             130 non-null    float64       \n",
      " 14  Latitude                76805 non-null  float64       \n",
      " 15  Longitude               76805 non-null  float64       \n",
      "dtypes: datetime64[ns](1), float64(5), int64(2), object(8)\n",
      "memory usage: 10.0+ MB\n"
     ]
    }
   ],
   "source": [
    "#Making sure these changes are made properly\n",
    "dine_data.info()"
   ]
  },
  {
   "cell_type": "code",
   "execution_count": 10,
   "metadata": {},
   "outputs": [
    {
     "data": {
      "text/plain": [
       "count                            76391\n",
       "mean     2023-03-09 20:24:12.045398016\n",
       "min                2022-01-24 00:00:00\n",
       "25%                2022-10-07 00:00:00\n",
       "50%                2023-03-24 00:00:00\n",
       "75%                2023-08-17 00:00:00\n",
       "max                2024-01-19 00:00:00\n",
       "Name: InspectionDate, dtype: object"
      ]
     },
     "execution_count": 10,
     "metadata": {},
     "output_type": "execute_result"
    }
   ],
   "source": [
    "dine_data['InspectionDate'].describe()"
   ]
  },
  {
   "cell_type": "markdown",
   "metadata": {},
   "source": [
    "The data ranges from Nov 15 2021 - Nov 14 2023."
   ]
  },
  {
   "cell_type": "code",
   "execution_count": 11,
   "metadata": {},
   "outputs": [
    {
     "data": {
      "text/html": [
       "<div>\n",
       "<style scoped>\n",
       "    .dataframe tbody tr th:only-of-type {\n",
       "        vertical-align: middle;\n",
       "    }\n",
       "\n",
       "    .dataframe tbody tr th {\n",
       "        vertical-align: top;\n",
       "    }\n",
       "\n",
       "    .dataframe thead th {\n",
       "        text-align: right;\n",
       "    }\n",
       "</style>\n",
       "<table border=\"1\" class=\"dataframe\">\n",
       "  <thead>\n",
       "    <tr style=\"text-align: right;\">\n",
       "      <th></th>\n",
       "      <th>Min.InspectionsPerYear</th>\n",
       "      <th>AmountFined</th>\n",
       "    </tr>\n",
       "  </thead>\n",
       "  <tbody>\n",
       "    <tr>\n",
       "      <th>count</th>\n",
       "      <td>76676.000000</td>\n",
       "      <td>130.000000</td>\n",
       "    </tr>\n",
       "    <tr>\n",
       "      <th>mean</th>\n",
       "      <td>2.355248</td>\n",
       "      <td>476.176923</td>\n",
       "    </tr>\n",
       "    <tr>\n",
       "      <th>std</th>\n",
       "      <td>0.607146</td>\n",
       "      <td>743.185600</td>\n",
       "    </tr>\n",
       "    <tr>\n",
       "      <th>min</th>\n",
       "      <td>1.000000</td>\n",
       "      <td>0.000000</td>\n",
       "    </tr>\n",
       "    <tr>\n",
       "      <th>25%</th>\n",
       "      <td>2.000000</td>\n",
       "      <td>75.000000</td>\n",
       "    </tr>\n",
       "    <tr>\n",
       "      <th>50%</th>\n",
       "      <td>2.000000</td>\n",
       "      <td>382.500000</td>\n",
       "    </tr>\n",
       "    <tr>\n",
       "      <th>75%</th>\n",
       "      <td>3.000000</td>\n",
       "      <td>580.000000</td>\n",
       "    </tr>\n",
       "    <tr>\n",
       "      <th>max</th>\n",
       "      <td>3.000000</td>\n",
       "      <td>6250.000000</td>\n",
       "    </tr>\n",
       "  </tbody>\n",
       "</table>\n",
       "</div>"
      ],
      "text/plain": [
       "       Min.InspectionsPerYear  AmountFined\n",
       "count            76676.000000   130.000000\n",
       "mean                 2.355248   476.176923\n",
       "std                  0.607146   743.185600\n",
       "min                  1.000000     0.000000\n",
       "25%                  2.000000    75.000000\n",
       "50%                  2.000000   382.500000\n",
       "75%                  3.000000   580.000000\n",
       "max                  3.000000  6250.000000"
      ]
     },
     "execution_count": 11,
     "metadata": {},
     "output_type": "execute_result"
    }
   ],
   "source": [
    "dine_data[['Min.InspectionsPerYear', 'AmountFined']].describe()"
   ]
  },
  {
   "cell_type": "markdown",
   "metadata": {},
   "source": [
    "As we can see, minimum number of inspections per year range from 1-3. The amount fined ranges from $0 - $3,750. "
   ]
  },
  {
   "cell_type": "code",
   "execution_count": 12,
   "metadata": {},
   "outputs": [
    {
     "name": "stdout",
     "output_type": "stream",
     "text": [
      "The number of unique restaurants in Toronto are: 17797\n"
     ]
    }
   ],
   "source": [
    "print(f\"The number of unique restaurants in Toronto are: {dine_data['EstablishmentID'].nunique()}\")"
   ]
  },
  {
   "cell_type": "markdown",
   "metadata": {},
   "source": [
    "Let's look at the different instances of unique data that exists in these categorical columns"
   ]
  },
  {
   "cell_type": "code",
   "execution_count": 13,
   "metadata": {},
   "outputs": [
    {
     "name": "stdout",
     "output_type": "stream",
     "text": [
      "\n",
      "Unique instances and counts for EstablishmentType:\n",
      "EstablishmentType: Restaurant, Count: 39139\n",
      "EstablishmentType: Food Take Out, Count: 12763\n",
      "EstablishmentType: Food Store (Convenience/Variety), Count: 4041\n",
      "EstablishmentType: Supermarket, Count: 2630\n",
      "EstablishmentType: Food Court Vendor, Count: 2513\n",
      "EstablishmentType: Child Care - Catered, Count: 1999\n",
      "EstablishmentType: Bakery, Count: 1982\n",
      "EstablishmentType: Child Care - Food Preparation, Count: 1431\n",
      "EstablishmentType: Butcher Shop, Count: 753\n",
      "EstablishmentType: Food Processing Plant, Count: 729\n",
      "EstablishmentType: Food Caterer, Count: 709\n",
      "EstablishmentType: Student Nutrition Site, Count: 659\n",
      "EstablishmentType: Retirement Homes(Licensed), Count: 599\n",
      "EstablishmentType: Banquet Facility, Count: 584\n",
      "EstablishmentType: Cafeteria - Private Access, Count: 515\n",
      "EstablishmentType: Cocktail Bar / Beverage Room, Count: 497\n",
      "EstablishmentType: Community Kitchen (Meal Program), Count: 451\n",
      "EstablishmentType: Nursing Home / Home for the Aged, Count: 450\n",
      "EstablishmentType: Cafeteria - Public Access, Count: 434\n",
      "EstablishmentType: Boarding / Lodging Home - Kitchen, Count: 415\n",
      "EstablishmentType: Bake Shop, Count: 356\n",
      "EstablishmentType: Institutional Food Services, Count: 302\n",
      "EstablishmentType: Food Depot, Count: 294\n",
      "EstablishmentType: Private Club, Count: 279\n",
      "EstablishmentType: Commissary, Count: 262\n",
      "EstablishmentType: Serving Kitchen, Count: 204\n",
      "EstablishmentType: Hospitals & Health Facilities, Count: 194\n",
      "EstablishmentType: Food Bank, Count: 191\n",
      "EstablishmentType: Fairs / Festivals / Special Occasions, Count: 182\n",
      "EstablishmentType: Refreshment Stand (Stationary), Count: 176\n",
      "EstablishmentType: Secondary School Food Services, Count: 165\n",
      "EstablishmentType: Ice Cream / Yogurt Vendors, Count: 162\n",
      "EstablishmentType: Mobile Food Preparation Premises, Count: 161\n",
      "EstablishmentType: Fish Shop, Count: 150\n",
      "EstablishmentType: Hot Dog Cart, Count: 91\n",
      "EstablishmentType: College / University Food Services, Count: 65\n",
      "EstablishmentType: Church Banquet Facility, Count: 42\n",
      "EstablishmentType: Flea Market, Count: 40\n",
      "EstablishmentType: Chartered Cruise Boats, Count: 25\n",
      "EstablishmentType: Other Educational Facility Food Services, Count: 25\n",
      "EstablishmentType: Elementary School Food Services, Count: 24\n",
      "EstablishmentType: Food Vending Facility, Count: 19\n",
      "EstablishmentType: Food Cart, Count: 15\n",
      "EstablishmentType: Meat Processing Plant, Count: 14\n",
      "EstablishmentType: Rest Home, Count: 10\n",
      "EstablishmentType: Brew Your Own Beer / Wine, Count: 10\n",
      "EstablishmentType: Retirement Homes(Un-licensed), Count: 9\n",
      "EstablishmentType: Catering Vehicle, Count: 8\n",
      "EstablishmentType: Bottling Plant, Count: 7\n",
      "EstablishmentType: Farmers` Market Vendor, Count: 6\n",
      "EstablishmentType: Bed & Breakfast, Count: 6\n",
      "EstablishmentType: Milk Pasteurization Plant, Count: 4\n",
      "EstablishmentType: Ice Cream Plant, Count: 4\n",
      "EstablishmentType: Locker Plant, Count: 4\n",
      "EstablishmentType: Ice Manufacturing Plant, Count: 3\n",
      "EstablishmentType: Cheese Plant, Count: 2\n",
      "EstablishmentType: Milk Products Plant, Count: 1\n",
      "\n",
      "Unique instances and counts for Severity:\n",
      "Severity: M - Minor, Count: 28030\n",
      "Severity: S - Significant, Count: 14379\n",
      "Severity: NA - Not Applicable, Count: 3338\n",
      "Severity: C - Crucial, Count: 2182\n",
      "\n",
      "Unique instances and counts for Action:\n",
      "Action: Notice to Comply, Count: 39092\n",
      "Action: Corrected During Inspection, Count: 8608\n",
      "Action: Ticket, Count: 151\n",
      "Action: Summons, Count: 29\n",
      "Action: Summons and Health Hazard Order, Count: 16\n",
      "Action: Not in Compliance, Count: 13\n",
      "Action: Education Provided, Count: 10\n",
      "Action: Closure Order, Count: 4\n",
      "Action: Recommendations, Count: 4\n",
      "Action: Prohibition Order Requested, Count: 1\n",
      "Action: Warning Letter, Count: 1\n",
      "\n",
      "Unique instances and counts for Outcome:\n",
      "Outcome: Conviction - Fined, Count: 121\n",
      "Outcome: Pending, Count: 64\n",
      "Outcome: Cancelled, Count: 7\n",
      "Outcome: Charges Withdrawn, Count: 3\n",
      "Outcome: Conviction - Suspended Sentence, Count: 1\n"
     ]
    }
   ],
   "source": [
    "columns_of_interest = ['EstablishmentType', 'Severity', 'Action', 'Outcome']\n",
    "\n",
    "for column in columns_of_interest:\n",
    "    print(f\"\\nUnique instances and counts for {column}:\")\n",
    "    for value, count in dine_data[column].value_counts().items():\n",
    "        print(f\"{column}: {value}, Count: {count}\")"
   ]
  },
  {
   "cell_type": "code",
   "execution_count": 14,
   "metadata": {},
   "outputs": [
    {
     "name": "stdout",
     "output_type": "stream",
     "text": [
      "InfractionDetails: fail to ensure equipment surface sanitized as necessary - sec. 22, Count: 5944\n",
      "InfractionDetails: food premise not maintained with clean floors in food-handling room - sec. 7(1)(g)  , Count: 5815\n",
      "InfractionDetails: food premise not maintained with food handling room in sanitary condition - sec. 7(1)(e) , Count: 4422\n",
      "InfractionDetails: fail to protect against entry of pests - sec. 13(1), Count: 2963\n",
      "InfractionDetails: fail to maintain handwashing stations (liquid soap and paper towels) - sec. 7(3)(c), Count: 2834\n",
      "InfractionDetails: fail to ensure presence of food handler or supervisor during all hours of operation - sec. 32, Count: 1747\n",
      "InfractionDetails: fail to ensure completion of food handling training by food handler or supervisor - sec. 32, Count: 1443\n",
      "InfractionDetails: fail to provide thermometer in refrigeration equipment - sec. 30(b)    , Count: 1364\n",
      "InfractionDetails: food premise not maintained with clean walls in food-handling room - sec. 7(1)(g)  , Count: 1004\n",
      "InfractionDetails: sanitize utensils in chlorine solution of less than 100 p.p.m. of available chlorine - sec. 19(b) , Count: 976\n",
      "InfractionDetails: food premise not maintained to keep food-handling room free from materials not regularly used - sec. 7(1)(f) , Count: 892\n",
      "InfractionDetails: operate food premise - mechanical equipment not maintained to provide sufficient chemical solution rinse - sec. 20(1)(a)(ii)(b) , Count: 880\n",
      "InfractionDetails: fail to protect food from contamination or adulteration - sec. 26(1) , Count: 841\n",
      "InfractionDetails: fail to protect against harbouring of pests - sec. 13(1), Count: 801\n",
      "InfractionDetails: fail to ensure food handler in food premise protects against contamination by hair - sec.  33(1)(d), Count: 654\n",
      "InfractionDetails: food premise not maintained with walls in good repair in food-handling room - sec. 7(1)(g)  , Count: 616\n",
      "InfractionDetails: food premise not maintained to keep food-handling room free from equipment not regularly used - sec. 7(1)(f)   , Count: 604\n",
      "InfractionDetails: food premise not maintained with clean ceiling in food-handling room - sec. 7(1)(g)  , Count: 523\n",
      "InfractionDetails: food premise not maintained with floors in good repair in food-handling room - sec. 7(1)(g)  , Count: 501\n",
      "InfractionDetails: operate food premise - equipment not constructed to permit maintenance in sanitary condition - sec. 9, Count: 462\n",
      "InfractionDetails: use utensils not in good repair - sec. 8(1)(b) , Count: 395\n",
      "InfractionDetails: fail to ensure equipment surface cleaned as necessary - sec. 22, Count: 358\n",
      "InfractionDetails: operate food premise - fail to equip sanitary facility with single service towels or dryer - sec. 25(3)(e)   , Count: 335\n",
      "InfractionDetails: store potentially hazardous foods at internal temperature between 4 c and 60 c - sec. 27(1), Count: 331\n",
      "InfractionDetails: food premise not maintained with ceilings in good repair in food-handling room - sec. 7(1)(g)  , Count: 325\n",
      "InfractionDetails: fail to provide handwashing stations with adequate supplies (hot and cold water) - sec. 7(3)(c), Count: 319\n",
      "InfractionDetails: use food equipment not of readily cleanable form - sec.  8(1)(c)  , Count: 288\n",
      "InfractionDetails: use handwashing station other than for handwashing of employees - sec. 7(4), Count: 279\n",
      "InfractionDetails: sanitize utensils using agent for which test reagent not readily available - sec. 19(e)(iii) , Count: 256\n",
      "InfractionDetails: operate food premise - fail to equip sanitary facility with soap or detergent - sec. 24(3)(d)  , Count: 250\n",
      "InfractionDetails: fail to remove garbage when necessary to maintain sanitary condition - sec. 12, Count: 248\n",
      "InfractionDetails: fail to maintain records of pest control measures taken - sec. 13(2), Count: 244\n",
      "InfractionDetails: fail to protect against breeding of pests - sec. 13(1), Count: 242\n",
      "InfractionDetails: use utensils not suitable for intended purpose - sec. 8(1)(d)  , Count: 237\n",
      "InfractionDetails: use equipment not suitable for intended purpose - sec. 8(1)(d)  , Count: 230\n",
      "InfractionDetails: use food equipment not of sound and tight construction - sec. 8(1)(a) , Count: 229\n",
      "InfractionDetails: operate food premise - equipment not constructed to permit cleaning - sec. 9, Count: 225\n",
      "InfractionDetails: operate food premise - equipment not arranged to permit cleaning - sec. 9, Count: 222\n",
      "InfractionDetails: operate food premise - mechanical equipment not maintained to maintain rinse water at 82 c - sec. 20(1)(a)(ii)(a) , Count: 221\n",
      "InfractionDetails: handwashing stations not conveniently accessible by food handlers - sec. 7(3)(c)   , Count: 217\n",
      "InfractionDetails: use shelves not of readily cleanable design - sec. 31, Count: 216\n",
      "InfractionDetails: use food equipment not in good repair - sec.  8(1)(b)  , Count: 211\n",
      "InfractionDetails: operate food premise - fail to keep sanitary facility in good repair - sec. 25(2), Count: 209\n",
      "InfractionDetails: use cloth not in good repair for cleaning food contact surface - sec. 16(a), Count: 199\n",
      "InfractionDetails: maintain potentially hazardous foods at internal temperature between 4 c and 60 c -  sec. 27(1), Count: 198\n",
      "InfractionDetails: fail to remove wastes when necessary to maintain sanitary condition - sec. 12, Count: 194\n",
      "InfractionDetails: operate food premise - fail to keep sanitary facility sanitary - sec. 25(2), Count: 180\n",
      "InfractionDetails: fail to maintain ventilation system to ensure elimination of fumes - sec. 11, Count: 178\n",
      "InfractionDetails: food premise not maintained to permit cleaning of walls  - sec. 7(1)(d) , Count: 174\n",
      "InfractionDetails: use utensils not of readily cleanable form - sec.  8(1)(c), Count: 171\n",
      "InfractionDetails: fail to ensure facility surface cleaned as necessary - sec. 22, Count: 161\n",
      "InfractionDetails: fail to provide adequate number of handwashing stations - sec. 7(3)(c)   , Count: 154\n",
      "InfractionDetails: fail to ensure food handler in food premise washes hands as necessary to prevent contamination of food - sec. 33(1)(e) , Count: 150\n",
      "InfractionDetails: sanitize utensils in quaternary ammonium compound solution of less than 200 p.p.m. - sec. 19(c) , Count: 142\n",
      "InfractionDetails: food premise not maintained with smooth floor surface where food handled - sec. 7(1)(c)(i) , Count: 141\n",
      "InfractionDetails: operate food premise - equipment not arranged to permit maintenance in sanitary condition - sec. 9, Count: 140\n",
      "InfractionDetails: thermometer in refrigeration equipment not easily readable - sec. 30(b)    , Count: 139\n",
      "InfractionDetails: food premise not maintained with tight floor surface where food handled - sec. 7(1)(c)(i)  , Count: 139\n",
      "InfractionDetails: fail to produce most recent food safety inspection report(s) - sec. 545-157(e)(5), Count: 124\n",
      "InfractionDetails: fail to maintain ventilation system to ensure elimination of odours - sec. 11, Count: 124\n",
      "InfractionDetails: operate food premise - mechanical equipment not maintained to maintain wash water between 60 c and 71 c - sec. 20(1)(a)(i) , Count: 121\n",
      "InfractionDetails: food premise not maintained to permit sanitary maintenance of walls - sec. 7(1)(d) , Count: 112\n",
      "InfractionDetails: use equipment not free from cracks in contact with food - sec.  8(2)(b)  , Count: 108\n",
      "InfractionDetails: operate food premise - fail to equip sanitary facility with toilet paper - sec. 25(3)(b)  , Count: 107\n",
      "InfractionDetails: use racks not of readily cleanable design - sec. 31, Count: 104\n",
      "InfractionDetails: refrigerate potentially hazardous foods at internal temperature above 4 c - sec. 30(a), Count: 103\n",
      "InfractionDetails: store ice in unsanitary manner - sec.  26(5) , Count: 100\n",
      "InfractionDetails: operate food premise - fail to provide equipment for cleaning and sanitizing utensils as required - sec. 18, Count: 100\n",
      "InfractionDetails: food premise not maintained to permit cleaning of ceilings - sec. 7(1)(d) , Count: 99\n",
      "InfractionDetails: fail to sanitize utensils as often as necessary - sec. 21(2), Count: 95\n",
      "InfractionDetails: fail to sanitize multi-service articles after use - sec. 21(1), Count: 93\n",
      "InfractionDetails: use utensils not non-toxic in contact with food - sec. 8(2)(a)  , Count: 88\n",
      "InfractionDetails: fail to retain records of pest control measures taken for one year - sec. 13(2), Count: 84\n",
      "InfractionDetails: food premise maintained in manner permitting adverse effect on food - sec. 7(1)(a)(iii) , Count: 82\n",
      "InfractionDetails: use dirty cloth for cleaning food contact surface - sec. 16(b), Count: 77\n",
      "InfractionDetails: fail to provide required illumination during all hours of operation - sec. 10, Count: 72\n",
      "InfractionDetails: fail to ensure food handler in food premise wears clean outer garments - sec. 33(1)(c) , Count: 66\n",
      "InfractionDetails: fail to provide thermometer in hot-holding equipment - sec. 30(b)    , Count: 65\n",
      "InfractionDetails: operate food premise - furniture not constructed to permit maintenance in sanitary condition - sec. 9, Count: 65\n",
      "InfractionDetails: food premise not maintained with non-absorbent floor surface where food handled - sec. 7(1)(c)(i) , Count: 63\n",
      "InfractionDetails: food premise not maintained to permit sanitary maintenance of ceilings - sec. 7(1)(d) , Count: 62\n",
      "InfractionDetails: operate food premise - appliances not constructed to permit maintenance in sanitary condition - sec. 9, Count: 58\n",
      "InfractionDetails: use utensils not of sound and tight construction - sec. 8(1)(a) , Count: 57\n",
      "InfractionDetails: operate food premise - furniture not arranged to permit cleaning - sec. 9, Count: 56\n",
      "InfractionDetails: operate food premise - appliances not constructed to permit cleaning - sec. 9, Count: 54\n",
      "InfractionDetails: use utensils not free from cracks in contact with food - sec. 8(2)(b)  , Count: 52\n",
      "InfractionDetails: operate food premise - furniture not constructed to permit cleaning - sec. 9, Count: 49\n",
      "InfractionDetails: operate food premise -rinse water temperature thermometer not easily readable  - sec.  20(1)(b), Count: 47\n",
      "InfractionDetails: operate food premise - appliances not arranged to permit cleaning - sec. 9, Count: 46\n",
      "InfractionDetails: use utensils not free from open seams in contact with food - sec. 8(2)(b)  , Count: 46\n",
      "InfractionDetails: use towel not in good repair for cleaning food contact surface - sec. 16(a), Count: 46\n",
      "InfractionDetails: operate food premise - appliances not arranged to permit maintenance in sanitary condition - sec. 9, Count: 42\n",
      "InfractionDetails: use pallets not of readily cleanable design - sec. 31, Count: 42\n",
      "InfractionDetails: operate food premise - fail to equip sanitary facility with hot and cold running water - sec. 25(3)(a) , Count: 40\n",
      "InfractionDetails: display potentially hazardous foods at internal temperature between 4 c and 60 c - sec. 27(1), Count: 39\n",
      "InfractionDetails: fail to ensure food handler in food premise refrains from conduct that could result in contamination of food - sec. 33(1)(h) , Count: 39\n",
      "InfractionDetails: fail to provide hot and cold running water in utensil washing area   - sec. 7(3)(b)  , Count: 38\n",
      "InfractionDetails: fail to maintain ventilation system to ensure elimination of smoke - sec. 11, Count: 37\n",
      "InfractionDetails: operate food premise - wash water temperature thermometer not easily readable - sec.  20(1)(b), Count: 35\n",
      "InfractionDetails: food premise maintained in manner to permit contamination of single-service containers - sec. 7(1)(h)  , Count: 34\n",
      "InfractionDetails: hot-holding potentially hazardous foods at internal temperature below 60 c - sec. 30(a), Count: 33\n",
      "InfractionDetails: use towel used for other purpose for cleaning food contact surface - sec. 16(c), Count: 31\n",
      "InfractionDetails: fail to clean utensils as often as necessary - sec. 21(2), Count: 29\n",
      "InfractionDetails: fail to provide hot and cold running water in food preparation area - sec. 7(3)(b)  , Count: 28\n",
      "InfractionDetails: use food equipment not of readily cleanable material - sec.  8(1)(c)  , Count: 28\n",
      "InfractionDetails: fail to maintain ventilation system to ensure elimination of excessive heat - sec. 11, Count: 28\n",
      "InfractionDetails: fail to collect garbage when necessary to maintain sanitary condition - sec. 12, Count: 27\n",
      "InfractionDetails: food premise not maintained with smooth floor surface where utensils cleaned - sec. 7(1)(c)(ii), Count: 26\n",
      "InfractionDetails: operate food premise - mechanical equipment not maintained to provide clean wash water - sec. 20(1)(a)(i) , Count: 25\n",
      "InfractionDetails: use cloth not in good repair for cleaning utensils - sec. 16(a), Count: 24\n",
      "InfractionDetails: offer for sale potentially hazardous foods at internal temperature between 4 c and 60 c - sec. 27(1), Count: 24\n",
      "InfractionDetails: fail to maintain ventilation system to ensure elimination of vapours - sec. 11, Count: 24\n",
      "InfractionDetails: fail to maintain sanitary facility in accordance with building code design requirements - sec.  25(1)  , Count: 22\n",
      "InfractionDetails: use cloth used for other purpose for cleaning food contact surface - sec. 16(c), Count: 21\n",
      "InfractionDetails: fail to ensure storage racks designed to protect against contamination - sec. 31, Count: 21\n",
      "InfractionDetails: food premise maintained in manner to permit contamination of single-service articles - sec. 7(1)(h)  , Count: 20\n",
      "InfractionDetails: operate food premise - furniture not arranged to permit maintenance in sanitary condition - sec. 9, Count: 20\n",
      "InfractionDetails: fail to clean multi-service articles after use - sec. 21(1), Count: 19\n",
      "InfractionDetails: fail to ensure food handler in food premise washes hands as necessary to prevent contamination of food areas - sec.  33(1)(e), Count: 19\n",
      "InfractionDetails: use utensils not of readily cleanable material - sec.  8(1)(c) , Count: 18\n",
      "InfractionDetails: fail to ensure facility surface sanitized as necessary - sec. 22, Count: 18\n",
      "InfractionDetails: food premise not maintained with tight floor surface where utensils cleaned - sec. 7(1)(c)(ii)   , Count: 17\n",
      "InfractionDetails: sanitize utensils in chlorine solution for less than 45 seconds - sec. 19(b) , Count: 17\n",
      "InfractionDetails: use multi-service articles not in good repair - sec. 8(1)(b) , Count: 16\n",
      "InfractionDetails: operate food premise - mechanical equipment not constructed to maintain rinse water at 82 c - sec. 20(1)(a)(ii)(a) , Count: 16\n",
      "InfractionDetails: handle ice in unsanitary manner - sec.  26(5) , Count: 16\n",
      "InfractionDetails: fail to ensure storage shelves designed to protect against contamination - sec. 31, Count: 16\n",
      "InfractionDetails: use multi-service articles not of sound and tight construction - sec. 8(1)(a) , Count: 16\n",
      "InfractionDetails: food premise not maintained with non-absorbent floor surface where utensils cleaned - sec. 7(1)(c)(ii)  , Count: 15\n",
      "InfractionDetails: fail to collect waste when necessary to maintain sanitary condition - sec. 12, Count: 15\n",
      "InfractionDetails: operate food premise - mechanical equipment not constructed to provide sufficient chemical solution rinse - sec. 20(1)(a)(ii)(b) , Count: 15\n",
      "InfractionDetails: sell potentially hazardous foods at internal temperature between 4 c and 60 c - sec. 27(1), Count: 15\n",
      "InfractionDetails: fail to process food in manner safe to eat - sec. 26(2), Count: 14\n",
      "InfractionDetails: operate food premise - fail to provide mechanical equipment with rinse water temperature thermometer - sec. 20(1)(b)  , Count: 14\n",
      "InfractionDetails: use equipment not free from crevices in contact with food - sec.  8(2)(b)  , Count: 14\n",
      "InfractionDetails: fail to ensure room kept free from live birds or animals - sec. 14(1), Count: 14\n",
      "InfractionDetails: distribute potentially hazardous foods at internal temperature between 4 c and 60 c - sec. 27(1), Count: 13\n",
      "InfractionDetails: operate food premise - mechanical equipment not designed to maintain rinse water at 82 c - sec. 20(1)(a)(ii)(a) , Count: 13\n",
      "InfractionDetails: sanitize utensils in water lower than 77 c - sec. 19(a)   , Count: 12\n",
      "InfractionDetails: operate food premise - fail to provide mechanical equipment with wash water temperature thermometer - sec. 20(1)(b)  , Count: 12\n",
      "InfractionDetails: use non-corrosion resistant utensils in contact with food - sec. 8(2)(a)  , Count: 12\n",
      "InfractionDetails: thermometer in hot-holding equipment not easily readable - sec. 30(b)    , Count: 11\n",
      "InfractionDetails: fail to provide adequate refrigerated space for food storage - sec. 7(3)(d)  , Count: 11\n",
      "InfractionDetails: fail to maintain frozen food in frozen state until prepared for use - sec. 28, Count: 11\n",
      "InfractionDetails: use multi-service articles not suitable for intended purpose - sec. 8(1)(d)  , Count: 11\n",
      "InfractionDetails: use multi-service articles not of readily cleanable form - sec. 8(1)(c) , Count: 11\n",
      "InfractionDetails: sanitize utensils using agent not approved for intended purpose - sec. 19(e)(i) , Count: 10\n",
      "InfractionDetails: food premise not maintained with tight floor surface where washing and toilet fixtures located - sec. 7(1)(c)(iii) , Count: 10\n",
      "InfractionDetails: fail to ensure storage pallets designed to protect against contamination - sec. 31, Count: 10\n",
      "InfractionDetails: fail to post inspection results in accordance with inspector's request - sec. 6, Count: 9\n",
      "InfractionDetails: food premises owner fail to keep posted, in a conspicuous place clearly visible to members of the public, at or near the entrance of such premises, the most recent inspection notice issued by the medical officer of health - sec. 520-3, Count: 9\n",
      "InfractionDetails: sanitize utensils in iodine solution of less than 25 p.p.m. - sec. 19(d), Count: 9\n",
      "InfractionDetails: operate food premise - mechanical equipment not maintained to apply rinse water 10 seconds per cycle - sec. 20(1)(a)(ii)(a) , Count: 9\n",
      "InfractionDetails: altering floor space in sanitary facility without inspector's approval - sec. 24(1)   , Count: 8\n",
      "InfractionDetails: use dirty towel for cleaning food contact surface - sec. 16(b), Count: 8\n",
      "InfractionDetails: fail to maintain records of food purchased  - sec. 29(2)  , Count: 7\n",
      "InfractionDetails: food premise maintained in manner permitting health hazard (insects) - sec. 7(1)(a)(i)    , Count: 7\n",
      "InfractionDetails: fail to ensure food handler in food premise refrains from conduct that could result in contamination of food areas - sec. 33(1)(h) , Count: 7\n",
      "InfractionDetails: use dirty table cover in food service - sec. 15, Count: 7\n",
      "InfractionDetails: food premise not maintained with smooth floor surface where washing and toilet fixtures located - sec. 7(1)(c)(iii), Count: 6\n",
      "InfractionDetails: sanitize utensils in quaternary ammonium compound solution for less than 45 seconds - sec. 19(c) , Count: 6\n",
      "InfractionDetails: fail to keep poisonous substance in container bearing identifying label - sec. 23(b) , Count: 6\n",
      "InfractionDetails: use equipment not free from open seams in contact with food - sec.  8(2)(b) , Count: 6\n",
      "InfractionDetails: fail to maintain frozen food in frozen state until sold - sec. 28, Count: 5\n",
      "InfractionDetails: operate food premise - mechanical equipment not constructed to maintain wash water between 60 c and 71 c - sec. 20(1)(a)(i) , Count: 5\n",
      "InfractionDetails: operate food premise - mechanical equipment not designed to provide sufficient chemical solution rinse - sec. 20(1)(a)(ii)(b) , Count: 5\n",
      "InfractionDetails: sanitize utensils in chlorine solution at temperature lower than 24 c - sec. 19(b) , Count: 4\n",
      "InfractionDetails: operate food premise --- refrigeration equipment for potentially hazardous food not of sufficient size - sec. 30(a), Count: 4\n",
      "InfractionDetails: operate food premise - fail to equip sanitary facility with waste receptacle - sec. 25(3)(c)   , Count: 4\n",
      "InfractionDetails: use cloth used for other purpose for cleaning utensils - sec. 16(c), Count: 4\n",
      "InfractionDetails: food premise not maintained with non-absorbent floor surface where washing and toilet fixtures located - sec. 7(1)(c)(iii)    , Count: 4\n",
      "InfractionDetails: food premise maintained in manner permitting health hazard (rodents) - sec. 7(1)(a)(i)    , Count: 4\n",
      "InfractionDetails: fail to keep toxic substance in container bearing identifying label - sec. 23(b) , Count: 4\n",
      "InfractionDetails: operate food premise - mechanical equipment not constructed to provide clean wash water - sec. 20(1)(a)(i) , Count: 3\n",
      "InfractionDetails: fail to maintain sanitary facility in accordance with building code construction requirements - sec.  25(1)  , Count: 3\n",
      "InfractionDetails: use cloth not in good repair for drying utensils - sec. 16(a), Count: 3\n",
      "InfractionDetails: use non-corrosion resistant equipment in contact with food - sec.  8(2)(a), Count: 3\n",
      "InfractionDetails: provide water not under pressure in utensil washing area - sec. 7(3)(b)  , Count: 3\n",
      "InfractionDetails: fail to obtain food from source subject to inspection - sec. 29(1)  , Count: 3\n",
      "InfractionDetails: altering number of washbasins in sanitary facility without inspector's approval - sec. 24(1)   , Count: 3\n",
      "InfractionDetails: use utensils not free from crevices in contact with food - sec. 8(2)(b)  , Count: 3\n",
      "InfractionDetails: have on food premise meat not labelled - sec. 38(1), Count: 3\n",
      "InfractionDetails: food premise maintained in manner permitting health hazard - sec. 7(1)(a)(i)    , Count: 3\n",
      "InfractionDetails: sanitize utensils using agent not in accordance with manufacturer's instructions - sec. 19(e)(ii) , Count: 3\n",
      "InfractionDetails: use dirty cloth for cleaning utensils - sec. 16(b), Count: 2\n",
      "InfractionDetails: fail to maintain records of food purchased for one year - sec. 29(2)  , Count: 2\n",
      "InfractionDetails: fail to develop written food safety procedures in relation to manufactured meat products    - sec. 34(1), Count: 2\n",
      "InfractionDetails: fail to maintain records of manufactured meat products - sec. 36(1), Count: 2\n",
      "InfractionDetails: use toxic substance in manner contaminating food - sec. 23(c) , Count: 2\n",
      "InfractionDetails: fail to check recording thermometer temperature daily - sec. 41(5), Count: 2\n",
      "InfractionDetails: fail to keep toxic substance in compartment separate from food - sec. 23(a) , Count: 2\n",
      "InfractionDetails: altering number of toilets in sanitary facility without inspector's approval - sec. 24(1)   , Count: 2\n",
      "InfractionDetails: fail to maintain sanitary facility in accordance with building code installation requirements - sec.  25(1)  , Count: 2\n",
      "InfractionDetails: food premise maintained in manner permitting use of food handling room for sleeping - sec. 7(1)(b)  , Count: 2\n",
      "InfractionDetails: fail to keep poisonous substance in compartment separate from food - sec. 23(a) , Count: 2\n",
      "InfractionDetails: use serviette not in good repair in food service - sec. 15, Count: 2\n",
      "InfractionDetails: use dirty napkin in food service  - sec. 15, Count: 2\n",
      "InfractionDetails: food premise maintained in manner adversely affecting sanitary operation - sec. 7(1)(a)(ii), Count: 2\n",
      "InfractionDetails: operate food premise - two-sink equipment not of corrosion-resistant material - sec. 18 2.ii  , Count: 2\n",
      "InfractionDetails: operate food premise - three-sink equipment not of sufficient size - sec. 18 2.i, Count: 2\n",
      "InfractionDetails: use ice not made from potable water - sec.  26(5) , Count: 2\n",
      "InfractionDetails: provide water not under pressure in food preparation area - sec. 7(3)(b)  , Count: 2\n",
      "InfractionDetails: use multi-service articles not of readily cleanable material - sec. 8(1)(c) , Count: 2\n",
      "InfractionDetails: use table cover not in good repair in food service - sec. 15, Count: 2\n",
      "InfractionDetails: fail to ensure food handler in food premise practices good personal hygiene - sec. 33(1)(b)  , Count: 2\n",
      "InfractionDetails: fail to subject meat products to process to destroy bacteria, parasites and other forms of contamination - sec. 36(1)  , Count: 1\n",
      "InfractionDetails: operate food premise - mechanical equipment not designed to provide clean wash water - sec. 20(1)(a)(i) , Count: 1\n",
      "InfractionDetails: fail to give notice to the medical officer of health of intention to commence operation of the food premises - sec.  16(2), Count: 1\n",
      "InfractionDetails: use napkin not in good repair in food service - sec. 15, Count: 1\n",
      "InfractionDetails: use dirty serviette in food service  - sec. 15, Count: 1\n",
      "InfractionDetails: fail to provide food premise with adequate potable water supply - sec.  7(3)(a)  , Count: 1\n",
      "InfractionDetails: did hinder or obstruct a public health inspector under the direction of the medical officer of health to carry out a power, duty or direction under the act - sec. 42(1), Count: 1\n",
      "InfractionDetails: use towel used for other purpose for cleaning utensils - sec. 16(c), Count: 1\n",
      "InfractionDetails: use towel not in good repair for drying utensils - sec. 16(a), Count: 1\n",
      "InfractionDetails: offer for sale ungraded eggs - sec. 47(1), Count: 1\n",
      "InfractionDetails: sanitize utensils in water for less than 45 seconds (temperature) - sec. 19(a) , Count: 1\n",
      "InfractionDetails: operate food premise - drainage racks not of corrosion-resistant material - sec. 18 2, Count: 1\n",
      "InfractionDetails: fail to ensure food handler in food premise does not use tobacco while engaged as food handler - sec. 33(1)(a)  , Count: 1\n",
      "InfractionDetails: fail to ensure food handler in food premise is clean - sec. 33(1)(b)  , Count: 1\n",
      "InfractionDetails: use cloth not in good repair for polishing utensils   - sec. 16(a), Count: 1\n",
      "InfractionDetails: fail to ensure food safety procedures in relation to manufactured meat products followed - sec. 34(4) , Count: 1\n",
      "InfractionDetails: operate food premise - fail to equip sanitary facility with durable waste receptacle - sec. 25(3)(c)   , Count: 1\n",
      "InfractionDetails: use towel not in good repair for cleaning utensils - sec. 16(a), Count: 1\n",
      "InfractionDetails: use dirty towel for drying utensils - sec. 16(b), Count: 1\n",
      "InfractionDetails: operate food premise - three-sink equipment not of corrosion-resistant material - sec. 18 2.i, Count: 1\n",
      "InfractionDetails: use poisonous substance under conditions contaminating food - sec. 23(c) , Count: 1\n"
     ]
    }
   ],
   "source": [
    "# Convert 'InfractionDetails' to lowercase\n",
    "dine_data['InfractionDetails'] = dine_data['InfractionDetails'].str.lower()\n",
    "\n",
    "# Display unique instances and counts\n",
    "unique_instances_counts = dine_data['InfractionDetails'].value_counts()\n",
    "\n",
    "# Print the results\n",
    "for value, count in unique_instances_counts.items():\n",
    "    print(f\"InfractionDetails: {value}, Count: {count}\")"
   ]
  },
  {
   "cell_type": "code",
   "execution_count": 15,
   "metadata": {},
   "outputs": [
    {
     "data": {
      "text/plain": [
       "226"
      ]
     },
     "execution_count": 15,
     "metadata": {},
     "output_type": "execute_result"
    }
   ],
   "source": [
    "unique_instances_counts.count()"
   ]
  },
  {
   "cell_type": "markdown",
   "metadata": {},
   "source": [
    "When we dig more into infraction details, we can see that there are about 227 different types of infractions. These are tied into policy. However, these are manually entered so there could be entry issues. It's difficult ot be able to relate the types of infractions and how they link back to severity. "
   ]
  },
  {
   "cell_type": "markdown",
   "metadata": {},
   "source": [
    "---\n",
    "#### <a id = 'col'></a> 1.2 Dropping Columns"
   ]
  },
  {
   "cell_type": "markdown",
   "metadata": {},
   "source": [
    "We have multiple indexes, we will drop one of them as it's redundant. We will drop _id as it's the id that's been assigned by Open Data."
   ]
  },
  {
   "cell_type": "code",
   "execution_count": 16,
   "metadata": {},
   "outputs": [],
   "source": [
    "dine_data = dine_data.drop('_id', axis=1)"
   ]
  },
  {
   "cell_type": "markdown",
   "metadata": {},
   "source": [
    "---\n",
    "#### <a id = 'row'></a> 1.3 Dropping Rows"
   ]
  },
  {
   "cell_type": "code",
   "execution_count": 17,
   "metadata": {},
   "outputs": [
    {
     "data": {
      "text/plain": [
       "EstablishmentID            0.00\n",
       "InspectionID               0.54\n",
       "EstablishmentName          0.00\n",
       "EstablishmentType          0.00\n",
       "EstablishmentAddress       0.00\n",
       "EstablishmentStatus        0.00\n",
       "Min.InspectionsPerYear     0.17\n",
       "InfractionDetails         37.60\n",
       "InspectionDate             0.54\n",
       "Severity                  37.60\n",
       "Action                    37.60\n",
       "Outcome                   99.74\n",
       "AmountFined               99.83\n",
       "Latitude                   0.00\n",
       "Longitude                  0.00\n",
       "dtype: float64"
      ]
     },
     "execution_count": 17,
     "metadata": {},
     "output_type": "execute_result"
    }
   ],
   "source": [
    "round((dine_data.isna().sum() / len(dine_data)) * 100, 2)"
   ]
  },
  {
   "cell_type": "markdown",
   "metadata": {},
   "source": [
    "As we can see, there are nulls values that are in InspectionID. These also align with InspectionDate. After looking at the raw data, we can see that no actual inspections were performed this day. We will drop these rows. It makes up for about 0.62% of the data, so it can be safely dropped."
   ]
  },
  {
   "cell_type": "code",
   "execution_count": 18,
   "metadata": {},
   "outputs": [],
   "source": [
    "dine_data.dropna(subset=['InspectionID'], inplace=True)"
   ]
  },
  {
   "cell_type": "code",
   "execution_count": 19,
   "metadata": {},
   "outputs": [
    {
     "data": {
      "text/plain": [
       "EstablishmentID               0\n",
       "InspectionID                  0\n",
       "EstablishmentName             0\n",
       "EstablishmentType             0\n",
       "EstablishmentAddress          0\n",
       "EstablishmentStatus           0\n",
       "Min.InspectionsPerYear      124\n",
       "InfractionDetails         28462\n",
       "InspectionDate                0\n",
       "Severity                  28462\n",
       "Action                    28462\n",
       "Outcome                   76195\n",
       "AmountFined               76261\n",
       "Latitude                      0\n",
       "Longitude                     0\n",
       "dtype: int64"
      ]
     },
     "execution_count": 19,
     "metadata": {},
     "output_type": "execute_result"
    }
   ],
   "source": [
    "dine_data.isna().sum()"
   ]
  },
  {
   "cell_type": "markdown",
   "metadata": {},
   "source": [
    "---\n",
    "#### <a id = 'null'></a> 1.4 Handling Nulls/Fixing Data"
   ]
  },
  {
   "cell_type": "markdown",
   "metadata": {},
   "source": [
    "As we can see, there are null values that exist. After taking a closer look at the data, it's because there are no entries. This can be due to the fact that only entries were made when there were actions. We will fill these nulls to show as such. "
   ]
  },
  {
   "cell_type": "markdown",
   "metadata": {},
   "source": [
    " Low risk premises that offer for sale only pre-packaged non-hazardous food shall be inspected once every two years. The inspection frequency for these low risk premises is shown as \"O\" (Other) on the report and in the data set. We will impute it as 0."
   ]
  },
  {
   "cell_type": "code",
   "execution_count": 20,
   "metadata": {},
   "outputs": [],
   "source": [
    "dine_data['AmountFined'].fillna(0, inplace=True)\n",
    "dine_data['Min.InspectionsPerYear'].fillna(0, inplace=True)\n",
    "dine_data['Action'].fillna(\"No action\", inplace=True)\n",
    "dine_data['Outcome'].fillna(\"No outcome\", inplace=True)\n",
    "dine_data['InfractionDetails'].fillna(\"No infractions\", inplace=True)\n",
    "dine_data['Severity'].fillna(\"Not Rating\", inplace=True)"
   ]
  },
  {
   "cell_type": "code",
   "execution_count": 21,
   "metadata": {},
   "outputs": [
    {
     "data": {
      "text/plain": [
       "EstablishmentID           0\n",
       "InspectionID              0\n",
       "EstablishmentName         0\n",
       "EstablishmentType         0\n",
       "EstablishmentAddress      0\n",
       "EstablishmentStatus       0\n",
       "Min.InspectionsPerYear    0\n",
       "InfractionDetails         0\n",
       "InspectionDate            0\n",
       "Severity                  0\n",
       "Action                    0\n",
       "Outcome                   0\n",
       "AmountFined               0\n",
       "Latitude                  0\n",
       "Longitude                 0\n",
       "dtype: int64"
      ]
     },
     "execution_count": 21,
     "metadata": {},
     "output_type": "execute_result"
    }
   ],
   "source": [
    "dine_data.isna().sum()"
   ]
  },
  {
   "cell_type": "markdown",
   "metadata": {},
   "source": [
    "Earlier in the EDA it was noted that some restaurants were issued a closure order but there were no establishment status' that were closed. We will fix this, if the Action is a closure order then Establishment status will be closed."
   ]
  },
  {
   "cell_type": "code",
   "execution_count": 22,
   "metadata": {},
   "outputs": [],
   "source": [
    "dine_data.loc[dine_data['Action'] == 'Closure Order', 'EstablishmentStatus'] = 'Closed'"
   ]
  },
  {
   "cell_type": "markdown",
   "metadata": {},
   "source": [
    "In addition, for the column Severity, there is an entry called 'NA - Not Applicable'. Let's take a closer look to understand why there was still a fine issued while there was no severity rating issued. "
   ]
  },
  {
   "cell_type": "code",
   "execution_count": 23,
   "metadata": {},
   "outputs": [
    {
     "data": {
      "text/plain": [
       "InfractionDetails\n",
       "fail to ensure presence of food handler or supervisor during all hours of operation - sec. 32                                                                                                                                                 1747\n",
       "fail to ensure completion of food handling training by food handler or supervisor - sec. 32                                                                                                                                                   1443\n",
       "fail to produce most recent food safety inspection report(s) - sec. 545-157(e)(5)                                                                                                                                                              124\n",
       "fail to post inspection results in accordance with inspector's request - sec. 6                                                                                                                                                                  9\n",
       "food premises owner fail to keep posted, in a conspicuous place clearly visible to members of the public, at or near the entrance of such premises, the most recent inspection notice issued by the medical officer of health - sec. 520-3       9\n",
       "fail to develop written food safety procedures in relation to manufactured meat products    - sec. 34(1)                                                                                                                                         2\n",
       "fail to maintain records of manufactured meat products - sec. 36(1)                                                                                                                                                                              2\n",
       "did hinder or obstruct a public health inspector under the direction of the medical officer of health to carry out a power, duty or direction under the act - sec. 42(1)                                                                         1\n",
       "fail to give notice to the medical officer of health of intention to commence operation of the food premises - sec.  16(2)                                                                                                                       1\n",
       "Name: count, dtype: int64"
      ]
     },
     "execution_count": 23,
     "metadata": {},
     "output_type": "execute_result"
    }
   ],
   "source": [
    "# Filter rows where 'Severity' is 'NA - Not Applicable' and return 'InfractionDetails'\n",
    "result = dine_data.loc[dine_data['Severity'] == 'NA - Not Applicable', 'InfractionDetails']\n",
    "\n",
    "result.value_counts()"
   ]
  },
  {
   "cell_type": "markdown",
   "metadata": {},
   "source": [
    "---\n",
    "#### <a id = 'conc'></a> Conclusion"
   ]
  },
  {
   "cell_type": "markdown",
   "metadata": {},
   "source": [
    "The data is now clean, let's export it as a cleaned csv. "
   ]
  },
  {
   "cell_type": "code",
   "execution_count": 24,
   "metadata": {},
   "outputs": [],
   "source": [
    "dine_data.to_csv('clean_dine_data.csv', index=False)"
   ]
  },
  {
   "cell_type": "markdown",
   "metadata": {},
   "source": []
  }
 ],
 "metadata": {
  "kernelspec": {
   "display_name": "klo-BS_HS-Bia",
   "language": "python",
   "name": "python3"
  },
  "language_info": {
   "codemirror_mode": {
    "name": "ipython",
    "version": 3
   },
   "file_extension": ".py",
   "mimetype": "text/x-python",
   "name": "python",
   "nbconvert_exporter": "python",
   "pygments_lexer": "ipython3",
   "version": "3.11.4"
  }
 },
 "nbformat": 4,
 "nbformat_minor": 2
}
